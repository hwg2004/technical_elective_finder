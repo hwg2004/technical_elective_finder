{
 "cells": [
  {
   "cell_type": "code",
   "execution_count": null,
   "id": "4738b395",
   "metadata": {},
   "outputs": [
    {
     "name": "stdout",
     "output_type": "stream",
     "text": [
      "[{'subject': 'CS', 'catalog_nbr': '1110', 'title': 'Introduction to Computing: A Design and Development Perspective', 'description': 'Programming and problem solving using Python. Emphasizes principles of software development, style, and testing. Topics include procedures and functions, iteration, recursion, arrays and vectors, strings, an operational model of procedure and function calls, algorithms, exceptions, object-oriented programming. Weekly labs provide guided practice on the computer, with staff present to help.', 'course_attributes': [{'crseAttr': '0012', 'crseAttrValue': 'SMR-AS', 'descr': 'AS-Symbolic & Mathematic Rsng', 'descrformal': 'AS-Symbolic and Mathematical Reasoning', 'attrDescr': 'Distribution Requirements', 'attrDescrShort': 'DistReq'}, {'crseAttr': '0012', 'crseAttrValue': 'STA-IL', 'descr': 'IL-Statistics Requirement', 'descrformal': 'IL-Statistics Requirement', 'attrDescr': 'Distribution Requirements', 'attrDescrShort': 'DistReq'}], 'attribute_groups': [{'attrDescr': 'Distribution Requirements', 'crseAttrValues': '(SMR-AS), (STA-IL)'}], 'prereq': '', 'coreq': '', 'legacy_prereq_coreq': None, 'sections': [{'section': 4544, 'component': 'LEC', 'pattern': 'TR', 'facility': None, 'start': '09:05AM', 'end': '09:55AM', 'instructors': []}, {'section': 4545, 'component': 'LEC', 'pattern': 'TR', 'facility': None, 'start': '11:15AM', 'end': '12:05PM', 'instructors': []}, {'section': 4546, 'component': 'DIS', 'pattern': 'TR', 'facility': None, 'start': '12:20PM', 'end': '01:10PM', 'instructors': []}, {'section': 4547, 'component': 'DIS', 'pattern': 'TR', 'facility': None, 'start': '01:25PM', 'end': '02:15PM', 'instructors': []}, {'section': 4548, 'component': 'DIS', 'pattern': 'TR', 'facility': None, 'start': '02:30PM', 'end': '03:20PM', 'instructors': []}, {'section': 4549, 'component': 'DIS', 'pattern': 'TR', 'facility': None, 'start': '03:35PM', 'end': '04:25PM', 'instructors': []}, {'section': 4550, 'component': 'DIS', 'pattern': 'WF', 'facility': None, 'start': '12:20PM', 'end': '01:10PM', 'instructors': []}, {'section': 4551, 'component': 'DIS', 'pattern': 'WF', 'facility': None, 'start': '01:25PM', 'end': '02:15PM', 'instructors': []}, {'section': 4552, 'component': 'DIS', 'pattern': 'WF', 'facility': None, 'start': '02:30PM', 'end': '03:20PM', 'instructors': []}, {'section': 4553, 'component': 'DIS', 'pattern': 'WF', 'facility': None, 'start': '03:35PM', 'end': '04:25PM', 'instructors': []}, {'section': 4704, 'component': 'DIS', 'pattern': 'WF', 'facility': None, 'start': '10:10AM', 'end': '11:00AM', 'instructors': []}, {'section': 4705, 'component': 'DIS', 'pattern': 'WF', 'facility': None, 'start': '11:15AM', 'end': '12:05PM', 'instructors': []}, {'section': 4706, 'component': 'DIS', 'pattern': 'WF', 'facility': None, 'start': '09:05AM', 'end': '09:55AM', 'instructors': []}, {'section': 4752, 'component': 'DIS', 'pattern': 'TR', 'facility': None, 'start': '12:20PM', 'end': '01:10PM', 'instructors': []}, {'section': 4753, 'component': 'DIS', 'pattern': 'TR', 'facility': None, 'start': '01:25PM', 'end': '02:15PM', 'instructors': []}, {'section': 4778, 'component': 'DIS', 'pattern': 'TR', 'facility': None, 'start': '02:30PM', 'end': '03:20PM', 'instructors': []}, {'section': 4779, 'component': 'DIS', 'pattern': 'TR', 'facility': None, 'start': '03:35PM', 'end': '04:25PM', 'instructors': []}, {'section': 4780, 'component': 'DIS', 'pattern': 'WF', 'facility': None, 'start': '08:00AM', 'end': '08:50AM', 'instructors': []}, {'section': 4914, 'component': 'DIS', 'pattern': 'WF', 'facility': None, 'start': '11:15AM', 'end': '12:05PM', 'instructors': []}, {'section': 4915, 'component': 'DIS', 'pattern': 'WF', 'facility': None, 'start': '01:25PM', 'end': '02:15PM', 'instructors': []}, {'section': 4916, 'component': 'DIS', 'pattern': 'WF', 'facility': None, 'start': '09:05AM', 'end': '09:55AM', 'instructors': []}, {'section': 4917, 'component': 'DIS', 'pattern': 'WF', 'facility': None, 'start': '10:10AM', 'end': '11:00AM', 'instructors': []}]}, {'subject': 'CS', 'catalog_nbr': '1112', 'title': 'Introduction to Computing: An Engineering and Science Perspective', 'description': 'Programming and problem solving using Python. Emphasizes the systematic development of algorithms and programs. Topics include iteration, functions, arrays, strings, recursion, object-oriented programming, algorithms, and data handling and visualization. Assignments are designed to build an appreciation for complexity, dimension, randomness, simulation, and the role of approximation in engineering and science. Weekly discussion section provides guided practice on the computer, with staff present to help.', 'course_attributes': [{'crseAttr': '0012', 'crseAttrValue': 'SMR-AS', 'descr': 'AS-Symbolic & Mathematic Rsng', 'descrformal': 'AS-Symbolic and Mathematical Reasoning', 'attrDescr': 'Distribution Requirements', 'attrDescrShort': 'DistReq'}, {'crseAttr': '0012', 'crseAttrValue': 'STA-IL', 'descr': 'IL-Statistics Requirement', 'descrformal': 'IL-Statistics Requirement', 'attrDescr': 'Distribution Requirements', 'attrDescrShort': 'DistReq'}], 'attribute_groups': [{'attrDescr': 'Distribution Requirements', 'crseAttrValues': '(SMR-AS), (STA-IL)'}], 'prereq': 'MATH 1110 or equivalent.', 'coreq': '', 'legacy_prereq_coreq': None, 'sections': [{'section': 4536, 'component': 'LEC', 'pattern': 'TR', 'facility': None, 'start': '01:25PM', 'end': '02:40PM', 'instructors': []}, {'section': 4537, 'component': 'DIS', 'pattern': 'W', 'facility': None, 'start': '10:10AM', 'end': '11:25AM', 'instructors': []}, {'section': 4538, 'component': 'DIS', 'pattern': 'W', 'facility': None, 'start': '11:40AM', 'end': '12:55PM', 'instructors': []}, {'section': 4539, 'component': 'DIS', 'pattern': 'W', 'facility': None, 'start': '01:25PM', 'end': '02:40PM', 'instructors': []}, {'section': 4540, 'component': 'DIS', 'pattern': 'W', 'facility': None, 'start': '02:55PM', 'end': '04:10PM', 'instructors': []}, {'section': 4541, 'component': 'DIS', 'pattern': 'W', 'facility': None, 'start': '07:30PM', 'end': '08:45PM', 'instructors': []}]}]\n"
     ]
    }
   ],
   "source": [
    "import requests\n",
    "import json\n",
    "\n",
    "params = {\n",
    "    \"roster\": \"FA25\",   # e.g., Spring 2024\n",
    "    \"subject\": \"CS\"     # e.g., Computer Science\n",
    "}\n",
    "r = requests.get(\"https://classes.cornell.edu/api/2.0/search/classes.json\", params=params)\n",
    "data = r.json()[\"data\"][\"classes\"]\n",
    "\n",
    "classes = []\n",
    "for c in data:\n",
    "    subject = c.get(\"subject\")\n",
    "    catalog_nbr = c.get(\"catalogNbr\")\n",
    "    title = c.get(\"titleLong\") or c.get(\"titleShort\")\n",
    "    description = c.get(\"description\")\n",
    "    attrs = c.get(\"crseAttrs\", [])\n",
    "    attr_groups = c.get(\"crseAttrValueGroups\", [])\n",
    "\n",
    "    # 📌 handle prereqs/coreqs (robust across rosters)\n",
    "    prereq = c.get(\"catalogPrereq\")\n",
    "    coreq = c.get(\"catalogCoreq\")\n",
    "    legacy_prereq_coreq = c.get(\"catalogPrereqCoreq\")\n",
    "\n",
    "    # sections / meetings / instructors\n",
    "    sections = []\n",
    "    for eg in c.get(\"enrollGroups\", []):\n",
    "        for sec in eg.get(\"classSections\", []):\n",
    "            for mtg in sec.get(\"meetings\", []):\n",
    "                instructors = [\n",
    "                    i.get(\"name\") for i in mtg.get(\"instructors\", [])\n",
    "                    if i.get(\"name\")\n",
    "                ]\n",
    "                sections.append({\n",
    "                    \"section\": sec.get(\"classNbr\"),\n",
    "                    \"component\": sec.get(\"ssrComponent\"),\n",
    "                    \"pattern\": mtg.get(\"pattern\"),\n",
    "                    \"facility\": mtg.get(\"facilityDescr\"),\n",
    "                    \"start\": mtg.get(\"timeStart\"),\n",
    "                    \"end\": mtg.get(\"timeEnd\"),\n",
    "                    \"instructors\": instructors\n",
    "                })\n",
    "\n",
    "    classes.append({\n",
    "        \"subject\": subject,\n",
    "        \"catalog_nbr\": catalog_nbr,\n",
    "        \"title\": title,\n",
    "        # \"description\": description,\n",
    "        \"course_attributes\": attrs,\n",
    "        \"attribute_groups\": attr_groups,\n",
    "        \"prereq\": prereq,\n",
    "        \"coreq\": coreq,\n",
    "        \"legacy_prereq_coreq\": legacy_prereq_coreq\n",
    "    })\n",
    "\n",
    "print(classes[:2])\n",
    "\n",
    "# after your loop, once classes[] is built:\n",
    "with open(\"classes.json\", \"w\", encoding=\"utf-8\") as f:\n",
    "    json.dump(classes, f, indent=2, ensure_ascii=False)\n"
   ]
  }
 ],
 "metadata": {
  "kernelspec": {
   "display_name": "venv",
   "language": "python",
   "name": "python3"
  },
  "language_info": {
   "codemirror_mode": {
    "name": "ipython",
    "version": 3
   },
   "file_extension": ".py",
   "mimetype": "text/x-python",
   "name": "python",
   "nbconvert_exporter": "python",
   "pygments_lexer": "ipython3",
   "version": "3.12.4"
  }
 },
 "nbformat": 4,
 "nbformat_minor": 5
}
